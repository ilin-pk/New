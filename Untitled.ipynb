{
 "cells": [
  {
   "cell_type": "markdown",
   "metadata": {},
   "source": [
    "### 1.1. Какие направления поиска аномалий в данных вы знаете?\n",
    "Три направления: поиск выбросов, детектирование новых данных (объекты, которые модель еще не встречала) и обнаружение ошибок (некорректные данные, некоторые относят их к категории выбросов)."
   ]
  },
  {
   "cell_type": "markdown",
   "metadata": {},
   "source": [
    "### 1.2. Приходилось ли искать аномалии?\n",
    "Да"
   ]
  },
  {
   "cell_type": "markdown",
   "metadata": {},
   "source": [
    "### 1.3. Какие методы и подходы использовали?\n",
    "- Статистические методы. Например, построение распределений или классический ящик с усами.\n",
    "- Метрический методы. Например, расстояние до ближаего k-го соседа в пространстве признаков с некой метрикой.\n",
    "- Логические методы. Нарушение логических ограничений на возможные размер/формат данных."
   ]
  },
  {
   "cell_type": "markdown",
   "metadata": {},
   "source": [
    "### 1.4. Опишите, по вашему мнению, самый интересный кейс поиска аномалий в данных, который у вас был?\n",
    "Искал аномалии в данных для компании, которая по геолокации и другим признакам магазина предсказывала поток клиентов и выручку. Основные ошибки были связаны с выгрузкой данных из БД, например, слетел уникальный ID клиента и были магазины с одинаковым ID. Также бухгалтерские ошибки в финансовой отчетности. Банальные ошибки ввода данных, или аномалии в виде отсутствия стандартизации формата данных. Аномалии в виде очень крупных клиентов в малом количестве или только пришедших клиентов, для которых еще недостаточное кол-во данных."
   ]
  },
  {
   "cell_type": "markdown",
   "metadata": {},
   "source": [
    "## 1.5. Можно ли выразить в деньгах, что произошло бы, если бы эта аномалия не была найдена?\n",
    "Аномалия в виде обнаружения очень крупных клиентов с нестандартно большим оборотом показала, что для них нужно строить отдельную модель предсказаний. Если бы это не было сделано, мы могли потерять этих клиентов из-за недовольства качеством нашего продукта, а как следствие, потерять крупный источник дохода."
   ]
  },
  {
   "cell_type": "code",
   "execution_count": 1,
   "metadata": {},
   "outputs": [],
   "source": [
    "import pandas as pd\n",
    "import numpy as np\n",
    "\n",
    "import matplotlib.pyplot as plt\n",
    "import seaborn as sns"
   ]
  },
  {
   "cell_type": "code",
   "execution_count": 2,
   "metadata": {},
   "outputs": [
    {
     "name": "stderr",
     "output_type": "stream",
     "text": [
      "C:\\Dev\\Jupyter\\dist\\pyenv3.10.2-win64\\lib\\site-packages\\IPython\\core\\interactiveshell.py:3251: DtypeWarning: Columns (22,23,24,25,27,28,34,44,69,102,104) have mixed types.Specify dtype option on import or set low_memory=False.\n",
      "  exec(code_obj, self.user_global_ns, self.user_ns)\n"
     ]
    }
   ],
   "source": [
    "df = pd.read_csv('test_date.csv')"
   ]
  },
  {
   "cell_type": "markdown",
   "metadata": {},
   "source": [
    "### Выделим нужные признаки из ТЗ"
   ]
  },
  {
   "cell_type": "code",
   "execution_count": 3,
   "metadata": {},
   "outputs": [],
   "source": [
    "df = df[['date',  # Дата событий\n",
    "       'countryName',  # Страна игрока\n",
    "       'playerId',  # Айди игрока\n",
    "       'BC',  # Кол-во ставок\n",
    "       'DC',  # Кол-во депозитов\n",
    "       'DS',  # Сумма депозитов\n",
    "       'BS',  # Cумма ставок\n",
    "       'WS',  # Сумма WINов\n",
    "       'FTDS',  # Cумма первого депозита\n",
    "       'FTDAt',  # Дата первого депозита\n",
    "       'isVIP',  # Клиент является випом\n",
    "       'regAt',  # Дата регистрации\n",
    "       'gender',  # Пол\n",
    "       'birthday',  # День рождения\n",
    "       'trafficType'  # Тип траффика\n",
    "    ]]"
   ]
  },
  {
   "cell_type": "code",
   "execution_count": 4,
   "metadata": {},
   "outputs": [
    {
     "data": {
      "text/html": [
       "<div>\n",
       "<style scoped>\n",
       "    .dataframe tbody tr th:only-of-type {\n",
       "        vertical-align: middle;\n",
       "    }\n",
       "\n",
       "    .dataframe tbody tr th {\n",
       "        vertical-align: top;\n",
       "    }\n",
       "\n",
       "    .dataframe thead th {\n",
       "        text-align: right;\n",
       "    }\n",
       "</style>\n",
       "<table border=\"1\" class=\"dataframe\">\n",
       "  <thead>\n",
       "    <tr style=\"text-align: right;\">\n",
       "      <th></th>\n",
       "      <th>date</th>\n",
       "      <th>countryName</th>\n",
       "      <th>playerId</th>\n",
       "      <th>BC</th>\n",
       "      <th>DC</th>\n",
       "      <th>DS</th>\n",
       "      <th>BS</th>\n",
       "      <th>WS</th>\n",
       "      <th>FTDS</th>\n",
       "      <th>FTDAt</th>\n",
       "      <th>isVIP</th>\n",
       "      <th>regAt</th>\n",
       "      <th>gender</th>\n",
       "      <th>birthday</th>\n",
       "      <th>trafficType</th>\n",
       "    </tr>\n",
       "  </thead>\n",
       "  <tbody>\n",
       "    <tr>\n",
       "      <th>0</th>\n",
       "      <td>2021-11-25</td>\n",
       "      <td>Germany</td>\n",
       "      <td>240640129055444915</td>\n",
       "      <td>2136.0</td>\n",
       "      <td>1.0</td>\n",
       "      <td>50.000000</td>\n",
       "      <td>2110.000000</td>\n",
       "      <td>2149.960000</td>\n",
       "      <td>0.0</td>\n",
       "      <td>2021-09-06</td>\n",
       "      <td>0</td>\n",
       "      <td>2021-09-06</td>\n",
       "      <td>male</td>\n",
       "      <td>1975-01-19</td>\n",
       "      <td>organic</td>\n",
       "    </tr>\n",
       "    <tr>\n",
       "      <th>1</th>\n",
       "      <td>2021-11-13</td>\n",
       "      <td>Australia</td>\n",
       "      <td>163607068401298241</td>\n",
       "      <td>224.0</td>\n",
       "      <td>1.0</td>\n",
       "      <td>16.016657</td>\n",
       "      <td>91.455110</td>\n",
       "      <td>75.470486</td>\n",
       "      <td>0.0</td>\n",
       "      <td>2021-08-03</td>\n",
       "      <td>0</td>\n",
       "      <td>2021-08-03</td>\n",
       "      <td>female</td>\n",
       "      <td>2001-01-28</td>\n",
       "      <td>affiliate</td>\n",
       "    </tr>\n",
       "    <tr>\n",
       "      <th>2</th>\n",
       "      <td>2021-11-27</td>\n",
       "      <td>Australia</td>\n",
       "      <td>253813591246948816</td>\n",
       "      <td>342.0</td>\n",
       "      <td>1.0</td>\n",
       "      <td>25.172795</td>\n",
       "      <td>73.221367</td>\n",
       "      <td>41.629510</td>\n",
       "      <td>0.0</td>\n",
       "      <td>2021-11-09</td>\n",
       "      <td>0</td>\n",
       "      <td>2021-10-14</td>\n",
       "      <td>female</td>\n",
       "      <td>1994-08-06</td>\n",
       "      <td>affiliate</td>\n",
       "    </tr>\n",
       "    <tr>\n",
       "      <th>3</th>\n",
       "      <td>2021-11-11</td>\n",
       "      <td>Slovakia</td>\n",
       "      <td>274144001989805142</td>\n",
       "      <td>135.0</td>\n",
       "      <td>1.0</td>\n",
       "      <td>15.000000</td>\n",
       "      <td>35.900000</td>\n",
       "      <td>12.700000</td>\n",
       "      <td>0.0</td>\n",
       "      <td>2021-10-25</td>\n",
       "      <td>0</td>\n",
       "      <td>2021-10-19</td>\n",
       "      <td>male</td>\n",
       "      <td>1988-05-18</td>\n",
       "      <td>affiliate</td>\n",
       "    </tr>\n",
       "    <tr>\n",
       "      <th>4</th>\n",
       "      <td>2021-11-27</td>\n",
       "      <td>Germany</td>\n",
       "      <td>839506923129181394</td>\n",
       "      <td>411.0</td>\n",
       "      <td>1.0</td>\n",
       "      <td>50.000000</td>\n",
       "      <td>159.000000</td>\n",
       "      <td>81.480000</td>\n",
       "      <td>0.0</td>\n",
       "      <td>2021-11-20</td>\n",
       "      <td>0</td>\n",
       "      <td>2021-11-20</td>\n",
       "      <td>male</td>\n",
       "      <td>1993-05-16</td>\n",
       "      <td>affiliate</td>\n",
       "    </tr>\n",
       "    <tr>\n",
       "      <th>...</th>\n",
       "      <td>...</td>\n",
       "      <td>...</td>\n",
       "      <td>...</td>\n",
       "      <td>...</td>\n",
       "      <td>...</td>\n",
       "      <td>...</td>\n",
       "      <td>...</td>\n",
       "      <td>...</td>\n",
       "      <td>...</td>\n",
       "      <td>...</td>\n",
       "      <td>...</td>\n",
       "      <td>...</td>\n",
       "      <td>...</td>\n",
       "      <td>...</td>\n",
       "      <td>...</td>\n",
       "    </tr>\n",
       "    <tr>\n",
       "      <th>437449</th>\n",
       "      <td>2021-11-21</td>\n",
       "      <td>Austria</td>\n",
       "      <td>55628</td>\n",
       "      <td>8.0</td>\n",
       "      <td>0.0</td>\n",
       "      <td>0.000000</td>\n",
       "      <td>3.200000</td>\n",
       "      <td>0.000000</td>\n",
       "      <td>NaN</td>\n",
       "      <td>2020-07-28</td>\n",
       "      <td>0</td>\n",
       "      <td>2020-07-28</td>\n",
       "      <td>m</td>\n",
       "      <td>1982-01-14</td>\n",
       "      <td>affiliate</td>\n",
       "    </tr>\n",
       "    <tr>\n",
       "      <th>437450</th>\n",
       "      <td>2021-11-05</td>\n",
       "      <td>Germany</td>\n",
       "      <td>52262</td>\n",
       "      <td>72.0</td>\n",
       "      <td>0.0</td>\n",
       "      <td>0.000000</td>\n",
       "      <td>7.200000</td>\n",
       "      <td>3.200000</td>\n",
       "      <td>NaN</td>\n",
       "      <td>2021-08-17</td>\n",
       "      <td>0</td>\n",
       "      <td>2021-08-17</td>\n",
       "      <td>m</td>\n",
       "      <td>1991-11-11</td>\n",
       "      <td>affiliate</td>\n",
       "    </tr>\n",
       "    <tr>\n",
       "      <th>437451</th>\n",
       "      <td>2021-11-15</td>\n",
       "      <td>Germany</td>\n",
       "      <td>614865</td>\n",
       "      <td>0.0</td>\n",
       "      <td>0.0</td>\n",
       "      <td>0.000000</td>\n",
       "      <td>0.000000</td>\n",
       "      <td>0.000000</td>\n",
       "      <td>NaN</td>\n",
       "      <td>NaN</td>\n",
       "      <td>0</td>\n",
       "      <td>2021-11-11</td>\n",
       "      <td>NaN</td>\n",
       "      <td>2106-02-07</td>\n",
       "      <td>affiliate</td>\n",
       "    </tr>\n",
       "    <tr>\n",
       "      <th>437452</th>\n",
       "      <td>2021-11-01</td>\n",
       "      <td>Netherlands</td>\n",
       "      <td>74002</td>\n",
       "      <td>4199.0</td>\n",
       "      <td>0.0</td>\n",
       "      <td>0.000000</td>\n",
       "      <td>1130.030000</td>\n",
       "      <td>990.120000</td>\n",
       "      <td>NaN</td>\n",
       "      <td>2021-10-22</td>\n",
       "      <td>0</td>\n",
       "      <td>2021-10-22</td>\n",
       "      <td>m</td>\n",
       "      <td>1988-03-16</td>\n",
       "      <td>affiliate</td>\n",
       "    </tr>\n",
       "    <tr>\n",
       "      <th>437453</th>\n",
       "      <td>2021-11-15</td>\n",
       "      <td>Netherlands</td>\n",
       "      <td>246985</td>\n",
       "      <td>670.0</td>\n",
       "      <td>6.0</td>\n",
       "      <td>210.000000</td>\n",
       "      <td>1826.850000</td>\n",
       "      <td>1588.120000</td>\n",
       "      <td>NaN</td>\n",
       "      <td>2021-02-03</td>\n",
       "      <td>1</td>\n",
       "      <td>2021-02-03</td>\n",
       "      <td>f</td>\n",
       "      <td>1997-04-10</td>\n",
       "      <td>affiliate</td>\n",
       "    </tr>\n",
       "  </tbody>\n",
       "</table>\n",
       "<p>437454 rows × 15 columns</p>\n",
       "</div>"
      ],
      "text/plain": [
       "              date  countryName            playerId      BC   DC          DS  \\\n",
       "0       2021-11-25      Germany  240640129055444915  2136.0  1.0   50.000000   \n",
       "1       2021-11-13    Australia  163607068401298241   224.0  1.0   16.016657   \n",
       "2       2021-11-27    Australia  253813591246948816   342.0  1.0   25.172795   \n",
       "3       2021-11-11     Slovakia  274144001989805142   135.0  1.0   15.000000   \n",
       "4       2021-11-27      Germany  839506923129181394   411.0  1.0   50.000000   \n",
       "...            ...          ...                 ...     ...  ...         ...   \n",
       "437449  2021-11-21      Austria               55628     8.0  0.0    0.000000   \n",
       "437450  2021-11-05      Germany               52262    72.0  0.0    0.000000   \n",
       "437451  2021-11-15      Germany              614865     0.0  0.0    0.000000   \n",
       "437452  2021-11-01  Netherlands               74002  4199.0  0.0    0.000000   \n",
       "437453  2021-11-15  Netherlands              246985   670.0  6.0  210.000000   \n",
       "\n",
       "                 BS           WS  FTDS       FTDAt  isVIP       regAt  gender  \\\n",
       "0       2110.000000  2149.960000   0.0  2021-09-06      0  2021-09-06    male   \n",
       "1         91.455110    75.470486   0.0  2021-08-03      0  2021-08-03  female   \n",
       "2         73.221367    41.629510   0.0  2021-11-09      0  2021-10-14  female   \n",
       "3         35.900000    12.700000   0.0  2021-10-25      0  2021-10-19    male   \n",
       "4        159.000000    81.480000   0.0  2021-11-20      0  2021-11-20    male   \n",
       "...             ...          ...   ...         ...    ...         ...     ...   \n",
       "437449     3.200000     0.000000   NaN  2020-07-28      0  2020-07-28       m   \n",
       "437450     7.200000     3.200000   NaN  2021-08-17      0  2021-08-17       m   \n",
       "437451     0.000000     0.000000   NaN         NaN      0  2021-11-11     NaN   \n",
       "437452  1130.030000   990.120000   NaN  2021-10-22      0  2021-10-22       m   \n",
       "437453  1826.850000  1588.120000   NaN  2021-02-03      1  2021-02-03       f   \n",
       "\n",
       "          birthday trafficType  \n",
       "0       1975-01-19     organic  \n",
       "1       2001-01-28   affiliate  \n",
       "2       1994-08-06   affiliate  \n",
       "3       1988-05-18   affiliate  \n",
       "4       1993-05-16   affiliate  \n",
       "...            ...         ...  \n",
       "437449  1982-01-14   affiliate  \n",
       "437450  1991-11-11   affiliate  \n",
       "437451  2106-02-07   affiliate  \n",
       "437452  1988-03-16   affiliate  \n",
       "437453  1997-04-10   affiliate  \n",
       "\n",
       "[437454 rows x 15 columns]"
      ]
     },
     "execution_count": 4,
     "metadata": {},
     "output_type": "execute_result"
    }
   ],
   "source": [
    "df"
   ]
  },
  {
   "cell_type": "markdown",
   "metadata": {},
   "source": [
    "### Рассмотрим колонку 'gender', это явно бинарный признак, но метки классов не стандартизированы. Приведем к общему виду: male / female / no_info"
   ]
  },
  {
   "cell_type": "code",
   "execution_count": 5,
   "metadata": {},
   "outputs": [
    {
     "data": {
      "text/plain": [
       "array(['male', 'female', nan, 'm', 'f'], dtype=object)"
      ]
     },
     "execution_count": 5,
     "metadata": {},
     "output_type": "execute_result"
    }
   ],
   "source": [
    "df.gender.unique()"
   ]
  },
  {
   "cell_type": "code",
   "execution_count": 6,
   "metadata": {},
   "outputs": [],
   "source": [
    "def gender_function(label):\n",
    "    if (label == 'm'):\n",
    "        return 'male'\n",
    "    elif (label == 'f'):\n",
    "        return 'female'\n",
    "    else:\n",
    "        return label\n",
    "    \n",
    "    \n",
    "df.loc[:, 'gender'] = df['gender'].apply(lambda x: gender_function(x)).fillna('no_info')"
   ]
  },
  {
   "cell_type": "markdown",
   "metadata": {},
   "source": [
    "Больше всего событий принадлежит пользователями мужского пола."
   ]
  },
  {
   "cell_type": "code",
   "execution_count": 7,
   "metadata": {},
   "outputs": [
    {
     "data": {
      "image/png": "[encoded data removed]",
      "text/plain": [
       "<Figure size 432x288 with 1 Axes>"
      ]
     },
     "metadata": {
      "needs_background": "light"
     },
     "output_type": "display_data"
    }
   ],
   "source": [
    "sns.histplot(data=df, x='gender');"
   ]
  },
  {
   "cell_type": "markdown",
   "metadata": {},
   "source": [
    "### Рассмотрим колонку 'regAt', приведем все к формату pd.datetime и посмотрим, есть ли ошибки в формате данных."
   ]
  },
  {
   "cell_type": "code",
   "execution_count": 8,
   "metadata": {},
   "outputs": [],
   "source": [
    "df.loc[:, 'regAt'] = pd.to_datetime(df['regAt'])"
   ]
  },
  {
   "cell_type": "markdown",
   "metadata": {},
   "source": [
    "Мы видим, что присутствуют явно ложные даты регистрации. Отфильтруем события, оставив те, в которых дата регистрации пользователя позднее 1 января 2020 года"
   ]
  },
  {
   "cell_type": "code",
   "execution_count": 9,
   "metadata": {},
   "outputs": [
    {
     "data": {
      "image/png": "[encoded data removed]",
      "text/plain": [
       "<Figure size 432x288 with 1 Axes>"
      ]
     },
     "metadata": {
      "needs_background": "light"
     },
     "output_type": "display_data"
    }
   ],
   "source": [
    "sns.kdeplot(data=df, x='regAt');"
   ]
  },
  {
   "cell_type": "code",
   "execution_count": 10,
   "metadata": {},
   "outputs": [],
   "source": [
    "df = df[df['regAt'] > pd.to_datetime('2020-01-01')]"
   ]
  },
  {
   "cell_type": "markdown",
   "metadata": {},
   "source": [
    "Видим пик активности пользователей, зарегестрировавшихся в районе нового года."
   ]
  },
  {
   "cell_type": "code",
   "execution_count": 11,
   "metadata": {},
   "outputs": [
    {
     "data": {
      "image/png": "[encoded data removed]",
      "text/plain": [
       "<Figure size 432x288 with 1 Axes>"
      ]
     },
     "metadata": {
      "needs_background": "light"
     },
     "output_type": "display_data"
    }
   ],
   "source": [
    "sns.kdeplot(data=df, x='regAt');"
   ]
  },
  {
   "cell_type": "markdown",
   "metadata": {},
   "source": [
    "Видим, что существуют события для пользователей с одинаковым ID, но разной датой регистрации. В предположении, что ID уникален,\n",
    "дропнем таких пользователей."
   ]
  },
  {
   "cell_type": "code",
   "execution_count": 12,
   "metadata": {},
   "outputs": [
    {
     "data": {
      "text/plain": [
       "playerId\n",
       "57        2\n",
       "144       2\n",
       "160       2\n",
       "280       2\n",
       "569       2\n",
       "         ..\n",
       "600428    2\n",
       "600436    2\n",
       "600451    2\n",
       "600459    2\n",
       "600461    2\n",
       "Name: regAt, Length: 1430, dtype: int64"
      ]
     },
     "execution_count": 12,
     "metadata": {},
     "output_type": "execute_result"
    }
   ],
   "source": [
    "tmp = df.groupby('playerId').regAt.nunique()\n",
    "tmp[tmp != 1]"
   ]
  },
  {
   "cell_type": "code",
   "execution_count": 13,
   "metadata": {},
   "outputs": [],
   "source": [
    "good_ID = tmp[tmp == 1].index.values\n",
    "df = df[df.playerId.isin(good_ID)]"
   ]
  },
  {
   "cell_type": "markdown",
   "metadata": {},
   "source": [
    "Посмотрим на кол-во регистраций новых пользователей в зависимости от времени. Наблюдается резкий прирост новых пользователей после октября 2021 года."
   ]
  },
  {
   "cell_type": "code",
   "execution_count": 14,
   "metadata": {},
   "outputs": [
    {
     "data": {
      "image/png": "[encoded data removed]",
      "text/plain": [
       "<Figure size 432x288 with 1 Axes>"
      ]
     },
     "metadata": {
      "needs_background": "light"
     },
     "output_type": "display_data"
    }
   ],
   "source": [
    "plt.plot(df.groupby('regAt').playerId.nunique().index.values, df.groupby('regAt').playerId.nunique());"
   ]
  },
  {
   "cell_type": "markdown",
   "metadata": {},
   "source": [
    "### Рассмотрим колонку 'birthday', существуют некорректные значения с точки зрения формата даты"
   ]
  },
  {
   "cell_type": "code",
   "execution_count": 15,
   "metadata": {},
   "outputs": [],
   "source": [
    "df = df[df.birthday.astype(str) != '0000-00-00']"
   ]
  },
  {
   "cell_type": "code",
   "execution_count": 16,
   "metadata": {},
   "outputs": [],
   "source": [
    "df.loc[:, 'birthday'] = pd.to_datetime(df['birthday'])\n",
    "df.loc[:, 'date'] = pd.to_datetime(df['date'])"
   ]
  },
  {
   "cell_type": "markdown",
   "metadata": {},
   "source": [
    "построим новые признаки - возраст пользователя при регистрации и возраст на момент события"
   ]
  },
  {
   "cell_type": "code",
   "execution_count": 17,
   "metadata": {},
   "outputs": [],
   "source": [
    "df['age_at_reg'] = np.round((df.regAt - df.birthday) / np.timedelta64(1, 'Y'))\n",
    "df['age'] = np.round((df.date - df.birthday) / np.timedelta64(1, 'Y'))"
   ]
  },
  {
   "cell_type": "markdown",
   "metadata": {},
   "source": [
    "Видим, что существуют пользователи, которые указали дату своего рождения из \"будущего\""
   ]
  },
  {
   "cell_type": "code",
   "execution_count": 18,
   "metadata": {},
   "outputs": [
    {
     "data": {
      "image/png": "[encoded data removed]",
      "text/plain": [
       "<Figure size 432x288 with 1 Axes>"
      ]
     },
     "metadata": {
      "needs_background": "light"
     },
     "output_type": "display_data"
    }
   ],
   "source": [
    "plt.hist(df.groupby('playerId').age_at_reg.mean());"
   ]
  },
  {
   "cell_type": "markdown",
   "metadata": {},
   "source": [
    "Отсеем ошибочные даты и построим гистограмму кол-ва клиентов в зависимости от их возрастной категории"
   ]
  },
  {
   "cell_type": "code",
   "execution_count": 19,
   "metadata": {},
   "outputs": [
    {
     "data": {
      "image/png": "[encoded data removed]",
      "text/plain": [
       "<Figure size 432x288 with 1 Axes>"
      ]
     },
     "metadata": {
      "needs_background": "light"
     },
     "output_type": "display_data"
    }
   ],
   "source": [
    "plt.hist(df.groupby('playerId').age_at_reg.mean()[df.groupby('playerId').age_at_reg.mean() > 0], bins=40);"
   ]
  },
  {
   "cell_type": "markdown",
   "metadata": {},
   "source": [
    "### Существуют записи, когда число депазитов больше нуля, но денег внесено не было (дроп, как ошибку)"
   ]
  },
  {
   "cell_type": "code",
   "execution_count": 20,
   "metadata": {},
   "outputs": [
    {
     "data": {
      "text/html": [
       "<div>\n",
       "<style scoped>\n",
       "    .dataframe tbody tr th:only-of-type {\n",
       "        vertical-align: middle;\n",
       "    }\n",
       "\n",
       "    .dataframe tbody tr th {\n",
       "        vertical-align: top;\n",
       "    }\n",
       "\n",
       "    .dataframe thead th {\n",
       "        text-align: right;\n",
       "    }\n",
       "</style>\n",
       "<table border=\"1\" class=\"dataframe\">\n",
       "  <thead>\n",
       "    <tr style=\"text-align: right;\">\n",
       "      <th></th>\n",
       "      <th>date</th>\n",
       "      <th>countryName</th>\n",
       "      <th>playerId</th>\n",
       "      <th>BC</th>\n",
       "      <th>DC</th>\n",
       "      <th>DS</th>\n",
       "      <th>BS</th>\n",
       "      <th>WS</th>\n",
       "      <th>FTDS</th>\n",
       "      <th>FTDAt</th>\n",
       "      <th>isVIP</th>\n",
       "      <th>regAt</th>\n",
       "      <th>gender</th>\n",
       "      <th>birthday</th>\n",
       "      <th>trafficType</th>\n",
       "      <th>age_at_reg</th>\n",
       "      <th>age</th>\n",
       "    </tr>\n",
       "  </thead>\n",
       "  <tbody>\n",
       "    <tr>\n",
       "      <th>63015</th>\n",
       "      <td>2021-11-07</td>\n",
       "      <td>Canada</td>\n",
       "      <td>4133657</td>\n",
       "      <td>NaN</td>\n",
       "      <td>4.0</td>\n",
       "      <td>0.0</td>\n",
       "      <td>0.0</td>\n",
       "      <td>0.0</td>\n",
       "      <td>0.0</td>\n",
       "      <td>2020-05-23</td>\n",
       "      <td>1</td>\n",
       "      <td>2020-05-19</td>\n",
       "      <td>female</td>\n",
       "      <td>1981-04-15</td>\n",
       "      <td>NaN</td>\n",
       "      <td>39.0</td>\n",
       "      <td>41.0</td>\n",
       "    </tr>\n",
       "    <tr>\n",
       "      <th>63025</th>\n",
       "      <td>2021-11-07</td>\n",
       "      <td>Canada</td>\n",
       "      <td>5431937</td>\n",
       "      <td>NaN</td>\n",
       "      <td>1.0</td>\n",
       "      <td>0.0</td>\n",
       "      <td>0.0</td>\n",
       "      <td>0.0</td>\n",
       "      <td>0.0</td>\n",
       "      <td>2020-09-10</td>\n",
       "      <td>1</td>\n",
       "      <td>2020-09-10</td>\n",
       "      <td>male</td>\n",
       "      <td>1978-03-01</td>\n",
       "      <td>NaN</td>\n",
       "      <td>43.0</td>\n",
       "      <td>44.0</td>\n",
       "    </tr>\n",
       "    <tr>\n",
       "      <th>63037</th>\n",
       "      <td>2021-11-07</td>\n",
       "      <td>Austria</td>\n",
       "      <td>6566206</td>\n",
       "      <td>NaN</td>\n",
       "      <td>2.0</td>\n",
       "      <td>0.0</td>\n",
       "      <td>0.0</td>\n",
       "      <td>0.0</td>\n",
       "      <td>0.0</td>\n",
       "      <td>2021-01-01</td>\n",
       "      <td>1</td>\n",
       "      <td>2020-12-18</td>\n",
       "      <td>male</td>\n",
       "      <td>1972-11-19</td>\n",
       "      <td>NaN</td>\n",
       "      <td>48.0</td>\n",
       "      <td>49.0</td>\n",
       "    </tr>\n",
       "    <tr>\n",
       "      <th>63063</th>\n",
       "      <td>2021-11-07</td>\n",
       "      <td>Germany</td>\n",
       "      <td>8622270</td>\n",
       "      <td>NaN</td>\n",
       "      <td>2.0</td>\n",
       "      <td>0.0</td>\n",
       "      <td>0.0</td>\n",
       "      <td>0.0</td>\n",
       "      <td>0.0</td>\n",
       "      <td>2021-11-04</td>\n",
       "      <td>0</td>\n",
       "      <td>2021-05-12</td>\n",
       "      <td>male</td>\n",
       "      <td>1976-12-06</td>\n",
       "      <td>NaN</td>\n",
       "      <td>44.0</td>\n",
       "      <td>45.0</td>\n",
       "    </tr>\n",
       "    <tr>\n",
       "      <th>63073</th>\n",
       "      <td>2021-11-07</td>\n",
       "      <td>Australia</td>\n",
       "      <td>9051064</td>\n",
       "      <td>NaN</td>\n",
       "      <td>5.0</td>\n",
       "      <td>0.0</td>\n",
       "      <td>0.0</td>\n",
       "      <td>0.0</td>\n",
       "      <td>0.0</td>\n",
       "      <td>2021-06-08</td>\n",
       "      <td>1</td>\n",
       "      <td>2021-06-08</td>\n",
       "      <td>male</td>\n",
       "      <td>2002-03-13</td>\n",
       "      <td>NaN</td>\n",
       "      <td>19.0</td>\n",
       "      <td>20.0</td>\n",
       "    </tr>\n",
       "    <tr>\n",
       "      <th>...</th>\n",
       "      <td>...</td>\n",
       "      <td>...</td>\n",
       "      <td>...</td>\n",
       "      <td>...</td>\n",
       "      <td>...</td>\n",
       "      <td>...</td>\n",
       "      <td>...</td>\n",
       "      <td>...</td>\n",
       "      <td>...</td>\n",
       "      <td>...</td>\n",
       "      <td>...</td>\n",
       "      <td>...</td>\n",
       "      <td>...</td>\n",
       "      <td>...</td>\n",
       "      <td>...</td>\n",
       "      <td>...</td>\n",
       "      <td>...</td>\n",
       "    </tr>\n",
       "    <tr>\n",
       "      <th>227443</th>\n",
       "      <td>2021-11-11</td>\n",
       "      <td>Netherlands</td>\n",
       "      <td>11088698</td>\n",
       "      <td>NaN</td>\n",
       "      <td>5.0</td>\n",
       "      <td>0.0</td>\n",
       "      <td>0.0</td>\n",
       "      <td>0.0</td>\n",
       "      <td>0.0</td>\n",
       "      <td>2021-11-08</td>\n",
       "      <td>0</td>\n",
       "      <td>2021-10-26</td>\n",
       "      <td>male</td>\n",
       "      <td>1987-05-23</td>\n",
       "      <td>NaN</td>\n",
       "      <td>34.0</td>\n",
       "      <td>34.0</td>\n",
       "    </tr>\n",
       "    <tr>\n",
       "      <th>227470</th>\n",
       "      <td>2021-11-11</td>\n",
       "      <td>Sweden</td>\n",
       "      <td>11214012</td>\n",
       "      <td>NaN</td>\n",
       "      <td>5.0</td>\n",
       "      <td>0.0</td>\n",
       "      <td>0.0</td>\n",
       "      <td>0.0</td>\n",
       "      <td>0.0</td>\n",
       "      <td>2021-11-03</td>\n",
       "      <td>0</td>\n",
       "      <td>2021-11-03</td>\n",
       "      <td>male</td>\n",
       "      <td>1981-05-15</td>\n",
       "      <td>NaN</td>\n",
       "      <td>40.0</td>\n",
       "      <td>40.0</td>\n",
       "    </tr>\n",
       "    <tr>\n",
       "      <th>227473</th>\n",
       "      <td>2021-11-11</td>\n",
       "      <td>Sweden</td>\n",
       "      <td>11236033</td>\n",
       "      <td>NaN</td>\n",
       "      <td>1.0</td>\n",
       "      <td>0.0</td>\n",
       "      <td>0.0</td>\n",
       "      <td>0.0</td>\n",
       "      <td>0.0</td>\n",
       "      <td>2021-11-05</td>\n",
       "      <td>0</td>\n",
       "      <td>2021-11-05</td>\n",
       "      <td>male</td>\n",
       "      <td>1974-10-03</td>\n",
       "      <td>NaN</td>\n",
       "      <td>47.0</td>\n",
       "      <td>47.0</td>\n",
       "    </tr>\n",
       "    <tr>\n",
       "      <th>227496</th>\n",
       "      <td>2021-11-11</td>\n",
       "      <td>Netherlands</td>\n",
       "      <td>11292147</td>\n",
       "      <td>NaN</td>\n",
       "      <td>1.0</td>\n",
       "      <td>0.0</td>\n",
       "      <td>0.0</td>\n",
       "      <td>0.0</td>\n",
       "      <td>0.0</td>\n",
       "      <td>2021-11-10</td>\n",
       "      <td>0</td>\n",
       "      <td>2021-11-09</td>\n",
       "      <td>male</td>\n",
       "      <td>1993-06-12</td>\n",
       "      <td>NaN</td>\n",
       "      <td>28.0</td>\n",
       "      <td>28.0</td>\n",
       "    </tr>\n",
       "    <tr>\n",
       "      <th>228474</th>\n",
       "      <td>2021-11-14</td>\n",
       "      <td>Germany</td>\n",
       "      <td>9429233</td>\n",
       "      <td>NaN</td>\n",
       "      <td>1.0</td>\n",
       "      <td>0.0</td>\n",
       "      <td>0.0</td>\n",
       "      <td>0.0</td>\n",
       "      <td>0.0</td>\n",
       "      <td>2021-07-04</td>\n",
       "      <td>1</td>\n",
       "      <td>2021-07-04</td>\n",
       "      <td>male</td>\n",
       "      <td>1992-01-17</td>\n",
       "      <td>NaN</td>\n",
       "      <td>29.0</td>\n",
       "      <td>30.0</td>\n",
       "    </tr>\n",
       "  </tbody>\n",
       "</table>\n",
       "<p>594 rows × 17 columns</p>\n",
       "</div>"
      ],
      "text/plain": [
       "             date  countryName  playerId  BC   DC   DS   BS   WS  FTDS  \\\n",
       "63015  2021-11-07       Canada   4133657 NaN  4.0  0.0  0.0  0.0   0.0   \n",
       "63025  2021-11-07       Canada   5431937 NaN  1.0  0.0  0.0  0.0   0.0   \n",
       "63037  2021-11-07      Austria   6566206 NaN  2.0  0.0  0.0  0.0   0.0   \n",
       "63063  2021-11-07      Germany   8622270 NaN  2.0  0.0  0.0  0.0   0.0   \n",
       "63073  2021-11-07    Australia   9051064 NaN  5.0  0.0  0.0  0.0   0.0   \n",
       "...           ...          ...       ...  ..  ...  ...  ...  ...   ...   \n",
       "227443 2021-11-11  Netherlands  11088698 NaN  5.0  0.0  0.0  0.0   0.0   \n",
       "227470 2021-11-11       Sweden  11214012 NaN  5.0  0.0  0.0  0.0   0.0   \n",
       "227473 2021-11-11       Sweden  11236033 NaN  1.0  0.0  0.0  0.0   0.0   \n",
       "227496 2021-11-11  Netherlands  11292147 NaN  1.0  0.0  0.0  0.0   0.0   \n",
       "228474 2021-11-14      Germany   9429233 NaN  1.0  0.0  0.0  0.0   0.0   \n",
       "\n",
       "             FTDAt  isVIP      regAt  gender   birthday trafficType  \\\n",
       "63015   2020-05-23      1 2020-05-19  female 1981-04-15         NaN   \n",
       "63025   2020-09-10      1 2020-09-10    male 1978-03-01         NaN   \n",
       "63037   2021-01-01      1 2020-12-18    male 1972-11-19         NaN   \n",
       "63063   2021-11-04      0 2021-05-12    male 1976-12-06         NaN   \n",
       "63073   2021-06-08      1 2021-06-08    male 2002-03-13         NaN   \n",
       "...            ...    ...        ...     ...        ...         ...   \n",
       "227443  2021-11-08      0 2021-10-26    male 1987-05-23         NaN   \n",
       "227470  2021-11-03      0 2021-11-03    male 1981-05-15         NaN   \n",
       "227473  2021-11-05      0 2021-11-05    male 1974-10-03         NaN   \n",
       "227496  2021-11-10      0 2021-11-09    male 1993-06-12         NaN   \n",
       "228474  2021-07-04      1 2021-07-04    male 1992-01-17         NaN   \n",
       "\n",
       "        age_at_reg   age  \n",
       "63015         39.0  41.0  \n",
       "63025         43.0  44.0  \n",
       "63037         48.0  49.0  \n",
       "63063         44.0  45.0  \n",
       "63073         19.0  20.0  \n",
       "...            ...   ...  \n",
       "227443        34.0  34.0  \n",
       "227470        40.0  40.0  \n",
       "227473        47.0  47.0  \n",
       "227496        28.0  28.0  \n",
       "228474        29.0  30.0  \n",
       "\n",
       "[594 rows x 17 columns]"
      ]
     },
     "execution_count": 20,
     "metadata": {},
     "output_type": "execute_result"
    }
   ],
   "source": [
    "df[(df.DC > 0.0) & (df.DS <= 0.0)]"
   ]
  },
  {
   "cell_type": "code",
   "execution_count": 21,
   "metadata": {},
   "outputs": [],
   "source": [
    "df = df[~((df.DC > 0.0) & (df.DS <= 0.0))]"
   ]
  },
  {
   "cell_type": "code",
   "execution_count": 22,
   "metadata": {},
   "outputs": [
    {
     "data": {
      "text/plain": [
       "count    376361.000000\n",
       "mean         63.046571\n",
       "std        1497.118158\n",
       "min           0.000000\n",
       "25%           0.000000\n",
       "50%           0.000000\n",
       "75%          32.003401\n",
       "max      871225.243396\n",
       "Name: DS, dtype: float64"
      ]
     },
     "execution_count": 22,
     "metadata": {},
     "output_type": "execute_result"
    }
   ],
   "source": [
    "df.DS.describe()"
   ]
  },
  {
   "cell_type": "markdown",
   "metadata": {},
   "source": [
    "### Поищем выбросы, видно, что в кол-во ставок, депазитов, их суммах и тд. есть выбросы\n",
    "### Попробуем отловить необычных игроков"
   ]
  },
  {
   "cell_type": "code",
   "execution_count": 23,
   "metadata": {},
   "outputs": [
    {
     "data": {
      "image/png": "[encoded data removed]",
      "text/plain": [
       "<Figure size 432x288 with 1 Axes>"
      ]
     },
     "metadata": {
      "needs_background": "light"
     },
     "output_type": "display_data"
    }
   ],
   "source": [
    "plt.boxplot(df.DC.dropna());"
   ]
  },
  {
   "cell_type": "code",
   "execution_count": 24,
   "metadata": {},
   "outputs": [
    {
     "data": {
      "image/png": "[encoded data removed]",
      "text/plain": [
       "<Figure size 432x288 with 1 Axes>"
      ]
     },
     "metadata": {
      "needs_background": "light"
     },
     "output_type": "display_data"
    }
   ],
   "source": [
    "plt.boxplot(df.DS.dropna());"
   ]
  },
  {
   "cell_type": "code",
   "execution_count": 25,
   "metadata": {},
   "outputs": [
    {
     "data": {
      "image/png": "[encoded data removed]",
      "text/plain": [
       "<Figure size 432x288 with 1 Axes>"
      ]
     },
     "metadata": {
      "needs_background": "light"
     },
     "output_type": "display_data"
    }
   ],
   "source": [
    "plt.boxplot(df.BC.dropna());"
   ]
  },
  {
   "cell_type": "code",
   "execution_count": 26,
   "metadata": {},
   "outputs": [],
   "source": [
    "X = np.hstack((df[['playerId', 'BS', 'DS']].dropna().groupby('playerId').BS.mean().values.reshape(-1, 1),\n",
    "               df[['playerId', 'BS', 'DS']].dropna().groupby('playerId').DS.mean().values.reshape(-1, 1)))"
   ]
  },
  {
   "cell_type": "code",
   "execution_count": 49,
   "metadata": {},
   "outputs": [],
   "source": [
    "data = pd.DataFrame({'BS_mean_log': np.log(X[:, 0]+0.1), 'DS_mean_log': np.log(X[:, 1]+0.1)})"
   ]
  },
  {
   "cell_type": "markdown",
   "metadata": {},
   "source": [
    "В логарифмическом масштабе хорошо видны выбросы, например, в координатах средняя сумма ставок и средняя сумма депозитов"
   ]
  },
  {
   "cell_type": "code",
   "execution_count": 52,
   "metadata": {},
   "outputs": [
    {
     "data": {
      "image/png": "[encoded data removed]",
      "text/plain": [
       "<Figure size 432x288 with 1 Axes>"
      ]
     },
     "metadata": {
      "needs_background": "light"
     },
     "output_type": "display_data"
    }
   ],
   "source": [
    "sns.scatterplot(data=data, x='BS_mean_log', y='DS_mean_log');"
   ]
  },
  {
   "cell_type": "code",
   "execution_count": 53,
   "metadata": {},
   "outputs": [],
   "source": [
    "X = np.hstack((df[['playerId', 'BC', 'DC']].dropna().groupby('playerId').BC.mean().values.reshape(-1, 1),\n",
    "               df[['playerId', 'BC', 'DC']].dropna().groupby('playerId').DC.mean().values.reshape(-1, 1)))"
   ]
  },
  {
   "cell_type": "code",
   "execution_count": 54,
   "metadata": {},
   "outputs": [],
   "source": [
    "data = pd.DataFrame({'BC_mean_log': np.log(X[:, 0]+0.1), 'DC_mean_log': np.log(X[:, 1]+0.1)})"
   ]
  },
  {
   "cell_type": "code",
   "execution_count": 55,
   "metadata": {},
   "outputs": [
    {
     "data": {
      "image/png": "[encoded data removed]",
      "text/plain": [
       "<Figure size 432x288 with 1 Axes>"
      ]
     },
     "metadata": {
      "needs_background": "light"
     },
     "output_type": "display_data"
    }
   ],
   "source": [
    "sns.scatterplot(data=data, x='BC_mean_log', y='DC_mean_log');"
   ]
  },
  {
   "cell_type": "markdown",
   "metadata": {},
   "source": [
    "### Какие метрики вы бы посчитали? \n",
    "Можно считать кол-во проигранных денег игроками за месяц. Кол-во новых пользователей за месяц. Посчитать предполагаемый отток, кол-во старых игроков, которые были активны в предыдущем месяце, но не совершили никаких действий в этом."
   ]
  }
 ],
 "metadata": {
  "kernelspec": {
   "display_name": "Python 3 (ipykernel)",
   "language": "python",
   "name": "python3"
  },
  "language_info": {
   "codemirror_mode": {
    "name": "ipython",
    "version": 3
   },
   "file_extension": ".py",
   "mimetype": "text/x-python",
   "name": "python",
   "nbconvert_exporter": "python",
   "pygments_lexer": "ipython3",
   "version": "3.9.7"
  }
 },
 "nbformat": 4,
 "nbformat_minor": 2
}
